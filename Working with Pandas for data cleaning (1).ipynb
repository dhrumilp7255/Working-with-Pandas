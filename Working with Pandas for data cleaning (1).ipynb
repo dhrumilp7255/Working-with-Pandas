{
 "cells": [
  {
   "cell_type": "markdown",
   "id": "e979e14f",
   "metadata": {},
   "source": [
    "# Importing Required libraries"
   ]
  },
  {
   "cell_type": "code",
   "execution_count": 1,
   "id": "580f0b83",
   "metadata": {},
   "outputs": [],
   "source": [
    "import pandas as pd\n",
    "import numpy as np"
   ]
  },
  {
   "cell_type": "markdown",
   "id": "2ca22da2",
   "metadata": {},
   "source": [
    "# Creating DataFrames using Dictionaries"
   ]
  },
  {
   "cell_type": "code",
   "execution_count": 13,
   "id": "a3fd00e3",
   "metadata": {},
   "outputs": [],
   "source": [
    "data_dict = {\"NAMES\":['CCN','OFC','WC','NA'] , \"MARKS\":[23,24,27,25]}"
   ]
  },
  {
   "cell_type": "markdown",
   "id": "639f5d94",
   "metadata": {},
   "source": [
    "#### After Creating DataFrames we can transfer it to a CSV file"
   ]
  },
  {
   "cell_type": "code",
   "execution_count": 39,
   "id": "ebffacd0",
   "metadata": {},
   "outputs": [],
   "source": [
    "pd.DataFrame(data_dict).to_csv('data_dict.csv',index=False)"
   ]
  },
  {
   "cell_type": "markdown",
   "id": "3fa4998c",
   "metadata": {},
   "source": [
    "#### Reading the CSV file data"
   ]
  },
  {
   "cell_type": "code",
   "execution_count": 40,
   "id": "faf079c8",
   "metadata": {},
   "outputs": [],
   "source": [
    "result = pd.read_csv('data_dict.csv')"
   ]
  },
  {
   "cell_type": "markdown",
   "id": "871186ad",
   "metadata": {},
   "source": [
    "#### Changing the indexing of DataFrame"
   ]
  },
  {
   "cell_type": "code",
   "execution_count": 42,
   "id": "cf859f9c",
   "metadata": {},
   "outputs": [],
   "source": [
    "result.index = ['m1','m2','m3','m4']"
   ]
  },
  {
   "cell_type": "markdown",
   "id": "d809cd93",
   "metadata": {},
   "source": [
    "#### Specific cell can be edited"
   ]
  },
  {
   "cell_type": "code",
   "execution_count": 50,
   "id": "864d9ba0",
   "metadata": {},
   "outputs": [
    {
     "name": "stderr",
     "output_type": "stream",
     "text": [
      "C:\\Users\\dhrumil\\AppData\\Local\\Temp/ipykernel_29744/1755184193.py:1: SettingWithCopyWarning: \n",
      "A value is trying to be set on a copy of a slice from a DataFrame\n",
      "\n",
      "See the caveats in the documentation: https://pandas.pydata.org/pandas-docs/stable/user_guide/indexing.html#returning-a-view-versus-a-copy\n",
      "  result['NAMES']['m4']='NA'\n"
     ]
    }
   ],
   "source": [
    "result['NAMES']['m4']='NA'"
   ]
  },
  {
   "cell_type": "markdown",
   "id": "bfb30fa6",
   "metadata": {},
   "source": [
    " "
   ]
  },
  {
   "cell_type": "markdown",
   "id": "ef25cd34",
   "metadata": {},
   "source": [
    "#### Viewing a specific column"
   ]
  },
  {
   "cell_type": "code",
   "execution_count": 164,
   "id": "19631f96",
   "metadata": {},
   "outputs": [
    {
     "data": {
      "text/html": [
       "<div>\n",
       "<style scoped>\n",
       "    .dataframe tbody tr th:only-of-type {\n",
       "        vertical-align: middle;\n",
       "    }\n",
       "\n",
       "    .dataframe tbody tr th {\n",
       "        vertical-align: top;\n",
       "    }\n",
       "\n",
       "    .dataframe thead th {\n",
       "        text-align: right;\n",
       "    }\n",
       "</style>\n",
       "<table border=\"1\" class=\"dataframe\">\n",
       "  <thead>\n",
       "    <tr style=\"text-align: right;\">\n",
       "      <th></th>\n",
       "      <th>NAMES</th>\n",
       "    </tr>\n",
       "  </thead>\n",
       "  <tbody>\n",
       "    <tr>\n",
       "      <th>m1</th>\n",
       "      <td>CCN</td>\n",
       "    </tr>\n",
       "    <tr>\n",
       "      <th>m2</th>\n",
       "      <td>OFC</td>\n",
       "    </tr>\n",
       "    <tr>\n",
       "      <th>m3</th>\n",
       "      <td>WC</td>\n",
       "    </tr>\n",
       "    <tr>\n",
       "      <th>m4</th>\n",
       "      <td>NA</td>\n",
       "    </tr>\n",
       "  </tbody>\n",
       "</table>\n",
       "</div>"
      ],
      "text/plain": [
       "   NAMES\n",
       "m1   CCN\n",
       "m2   OFC\n",
       "m3    WC\n",
       "m4    NA"
      ]
     },
     "execution_count": 164,
     "metadata": {},
     "output_type": "execute_result"
    }
   ],
   "source": [
    "result[['NAMES']]"
   ]
  },
  {
   "cell_type": "markdown",
   "id": "14946df8",
   "metadata": {},
   "source": [
    "# Creating DataFrames using CSV files and Data Cleaning"
   ]
  },
  {
   "cell_type": "code",
   "execution_count": 2,
   "id": "ebd2ed9d",
   "metadata": {},
   "outputs": [],
   "source": [
    "df = pd.read_csv('C:\\\\Users\\\\dhrumil\\\\Desktop\\\\archive\\\\alcohol-consumption-vs-gdp-per-capita.csv')\n",
    "df.set_index(\"Entity\",inplace=True)"
   ]
  },
  {
   "cell_type": "markdown",
   "id": "9af5952c",
   "metadata": {},
   "source": [
    " "
   ]
  },
  {
   "cell_type": "markdown",
   "id": "2d1ca525",
   "metadata": {},
   "source": [
    "#### Displaying First 5 Entries of our dataset"
   ]
  },
  {
   "cell_type": "code",
   "execution_count": 3,
   "id": "18e18dbd",
   "metadata": {},
   "outputs": [
    {
     "data": {
      "text/html": [
       "<div>\n",
       "<style scoped>\n",
       "    .dataframe tbody tr th:only-of-type {\n",
       "        vertical-align: middle;\n",
       "    }\n",
       "\n",
       "    .dataframe tbody tr th {\n",
       "        vertical-align: top;\n",
       "    }\n",
       "\n",
       "    .dataframe thead th {\n",
       "        text-align: right;\n",
       "    }\n",
       "</style>\n",
       "<table border=\"1\" class=\"dataframe\">\n",
       "  <thead>\n",
       "    <tr style=\"text-align: right;\">\n",
       "      <th></th>\n",
       "      <th>Code</th>\n",
       "      <th>Year</th>\n",
       "      <th>Total alcohol consumption per capita</th>\n",
       "      <th>GDP per capita, PPP</th>\n",
       "      <th>Population</th>\n",
       "      <th>Continent</th>\n",
       "    </tr>\n",
       "    <tr>\n",
       "      <th>Entity</th>\n",
       "      <th></th>\n",
       "      <th></th>\n",
       "      <th></th>\n",
       "      <th></th>\n",
       "      <th></th>\n",
       "      <th></th>\n",
       "    </tr>\n",
       "  </thead>\n",
       "  <tbody>\n",
       "    <tr>\n",
       "      <th>Afghanistan</th>\n",
       "      <td>AFG</td>\n",
       "      <td>2010.0</td>\n",
       "      <td>0.210000</td>\n",
       "      <td>1957.029070</td>\n",
       "      <td>29185511.0</td>\n",
       "      <td>NaN</td>\n",
       "    </tr>\n",
       "    <tr>\n",
       "      <th>Afghanistan</th>\n",
       "      <td>AFG</td>\n",
       "      <td>2015.0</td>\n",
       "      <td>0.210000</td>\n",
       "      <td>2068.265904</td>\n",
       "      <td>34413603.0</td>\n",
       "      <td>Asia</td>\n",
       "    </tr>\n",
       "    <tr>\n",
       "      <th>Afghanistan</th>\n",
       "      <td>AFG</td>\n",
       "      <td>2018.0</td>\n",
       "      <td>0.210000</td>\n",
       "      <td>2033.804389</td>\n",
       "      <td>37171922.0</td>\n",
       "      <td>NaN</td>\n",
       "    </tr>\n",
       "    <tr>\n",
       "      <th>Africa Eastern and Southern</th>\n",
       "      <td>NaN</td>\n",
       "      <td>2000.0</td>\n",
       "      <td>5.014051</td>\n",
       "      <td>2654.767900</td>\n",
       "      <td>NaN</td>\n",
       "      <td>NaN</td>\n",
       "    </tr>\n",
       "    <tr>\n",
       "      <th>Africa Eastern and Southern</th>\n",
       "      <td>NaN</td>\n",
       "      <td>2005.0</td>\n",
       "      <td>4.856588</td>\n",
       "      <td>2901.690263</td>\n",
       "      <td>NaN</td>\n",
       "      <td>NaN</td>\n",
       "    </tr>\n",
       "  </tbody>\n",
       "</table>\n",
       "</div>"
      ],
      "text/plain": [
       "                            Code    Year  \\\n",
       "Entity                                     \n",
       "Afghanistan                  AFG  2010.0   \n",
       "Afghanistan                  AFG  2015.0   \n",
       "Afghanistan                  AFG  2018.0   \n",
       "Africa Eastern and Southern  NaN  2000.0   \n",
       "Africa Eastern and Southern  NaN  2005.0   \n",
       "\n",
       "                             Total alcohol consumption per capita  \\\n",
       "Entity                                                              \n",
       "Afghanistan                                              0.210000   \n",
       "Afghanistan                                              0.210000   \n",
       "Afghanistan                                              0.210000   \n",
       "Africa Eastern and Southern                              5.014051   \n",
       "Africa Eastern and Southern                              4.856588   \n",
       "\n",
       "                             GDP per capita, PPP  Population Continent  \n",
       "Entity                                                                  \n",
       "Afghanistan                          1957.029070  29185511.0       NaN  \n",
       "Afghanistan                          2068.265904  34413603.0      Asia  \n",
       "Afghanistan                          2033.804389  37171922.0       NaN  \n",
       "Africa Eastern and Southern          2654.767900         NaN       NaN  \n",
       "Africa Eastern and Southern          2901.690263         NaN       NaN  "
      ]
     },
     "execution_count": 3,
     "metadata": {},
     "output_type": "execute_result"
    }
   ],
   "source": [
    "df.head()"
   ]
  },
  {
   "cell_type": "markdown",
   "id": "0e08cb2b",
   "metadata": {},
   "source": [
    " "
   ]
  },
  {
   "cell_type": "markdown",
   "id": "85927e03",
   "metadata": {},
   "source": [
    "#### Displaying Column names"
   ]
  },
  {
   "cell_type": "code",
   "execution_count": 4,
   "id": "d1ac9808",
   "metadata": {},
   "outputs": [
    {
     "data": {
      "text/plain": [
       "Index(['Code', 'Year', 'Total alcohol consumption per capita',\n",
       "       'GDP per capita, PPP', 'Population', 'Continent'],\n",
       "      dtype='object')"
      ]
     },
     "execution_count": 4,
     "metadata": {},
     "output_type": "execute_result"
    }
   ],
   "source": [
    "df.columns"
   ]
  },
  {
   "cell_type": "markdown",
   "id": "41b8ee59",
   "metadata": {},
   "source": [
    " "
   ]
  },
  {
   "cell_type": "markdown",
   "id": "47cc624f",
   "metadata": {},
   "source": [
    "#### Changing column names by entering names in list"
   ]
  },
  {
   "cell_type": "code",
   "execution_count": 5,
   "id": "d1c82387",
   "metadata": {},
   "outputs": [],
   "source": [
    "df.columns=[ 'Code', 'Year',\n",
    "       'Total alcohol consumption per capita',\n",
    "       'GDP per capita, PPP',\n",
    "       'Population', 'Continent'] #Changes in column name are not done in our case"
   ]
  },
  {
   "cell_type": "markdown",
   "id": "06465550",
   "metadata": {},
   "source": [
    " "
   ]
  },
  {
   "cell_type": "markdown",
   "id": "a67eb643",
   "metadata": {},
   "source": [
    "#### Changing the \"NA\" Values of a particular column"
   ]
  },
  {
   "cell_type": "code",
   "execution_count": 6,
   "id": "ddd7436b",
   "metadata": {},
   "outputs": [],
   "source": [
    "df=df.fillna({\n",
    "    'Year':0\n",
    "})\n",
    "df.to_csv('C:\\\\Users\\\\dhrumil\\\\Desktop\\\\archive\\\\alcohol-consumption-vs-gdp-per-capita.csv')"
   ]
  },
  {
   "cell_type": "markdown",
   "id": "8c0e3405",
   "metadata": {},
   "source": [
    " "
   ]
  },
  {
   "cell_type": "markdown",
   "id": "497d57f5",
   "metadata": {},
   "source": [
    "#### Changing the type of column data"
   ]
  },
  {
   "cell_type": "code",
   "execution_count": 7,
   "id": "6330b4d1",
   "metadata": {},
   "outputs": [],
   "source": [
    "conv={\n",
    "    'Year' : int\n",
    "}\n",
    "df.astype(conv)\n",
    "df.to_csv('C:\\\\Users\\\\dhrumil\\\\Desktop\\\\archive\\\\alcohol-consumption-vs-gdp-per-capita.csv')"
   ]
  },
  {
   "cell_type": "markdown",
   "id": "71e8c016",
   "metadata": {},
   "source": [
    " "
   ]
  },
  {
   "cell_type": "markdown",
   "id": "ac6a9351",
   "metadata": {},
   "source": [
    "#### Replacing a particular data pattern with \"NA\""
   ]
  },
  {
   "cell_type": "code",
   "execution_count": 8,
   "id": "91a28e54",
   "metadata": {},
   "outputs": [],
   "source": [
    "df = df.replace({\n",
    "'Year': 0\n",
    "}, np.NaN)\n",
    "df.to_csv('C:\\\\Users\\\\dhrumil\\\\Desktop\\\\archive\\\\alcohol-consumption-vs-gdp-per-capita.csv')"
   ]
  },
  {
   "cell_type": "markdown",
   "id": "ec9766ce",
   "metadata": {},
   "source": [
    " "
   ]
  },
  {
   "cell_type": "markdown",
   "id": "c9688871",
   "metadata": {},
   "source": [
    "#### Removing negative values"
   ]
  },
  {
   "cell_type": "code",
   "execution_count": 9,
   "id": "2148ce18",
   "metadata": {},
   "outputs": [],
   "source": [
    "df[df['Year']<0]=None\n",
    "df.dropna(subset=['Year','Total alcohol consumption per capita','GDP per capita, PPP'],inplace=True)\n",
    "df.to_csv('C:\\\\Users\\\\dhrumil\\\\Desktop\\\\archive\\\\alcohol-consumption-vs-gdp-per-capita.csv')"
   ]
  },
  {
   "cell_type": "markdown",
   "id": "ea663b7b",
   "metadata": {},
   "source": [
    " "
   ]
  },
  {
   "cell_type": "markdown",
   "id": "911a714c",
   "metadata": {},
   "source": [
    "#### Vieweing a particular column in \"Series\" form:"
   ]
  },
  {
   "cell_type": "code",
   "execution_count": 10,
   "id": "b3f5f798",
   "metadata": {},
   "outputs": [
    {
     "data": {
      "text/plain": [
       "Entity\n",
       "Afghanistan                    1957.029070\n",
       "Afghanistan                    2068.265904\n",
       "Afghanistan                    2033.804389\n",
       "Africa Eastern and Southern    2654.767900\n",
       "Africa Eastern and Southern    2901.690263\n",
       "                                  ...     \n",
       "Zimbabwe                       3756.139483\n",
       "Zimbabwe                       2517.672707\n",
       "Zimbabwe                       2458.220626\n",
       "Zimbabwe                       3198.982129\n",
       "Zimbabwe                       3341.665418\n",
       "Name: GDP per capita, PPP, Length: 1111, dtype: float64"
      ]
     },
     "execution_count": 10,
     "metadata": {},
     "output_type": "execute_result"
    }
   ],
   "source": [
    "df['GDP per capita, PPP']"
   ]
  },
  {
   "cell_type": "markdown",
   "id": "3871c1e4",
   "metadata": {},
   "source": [
    "  "
   ]
  },
  {
   "cell_type": "markdown",
   "id": "0a5e8226",
   "metadata": {},
   "source": [
    "#### Finding Maximum value of a particular column"
   ]
  },
  {
   "cell_type": "code",
   "execution_count": 11,
   "id": "b5b5849d",
   "metadata": {},
   "outputs": [
    {
     "data": {
      "text/plain": [
       "Total alcohol consumption per capita    20.5\n",
       "dtype: float64"
      ]
     },
     "execution_count": 11,
     "metadata": {},
     "output_type": "execute_result"
    }
   ],
   "source": [
    "df[['Total alcohol consumption per capita']].max()"
   ]
  },
  {
   "cell_type": "markdown",
   "id": "13fe2523",
   "metadata": {},
   "source": [
    " "
   ]
  },
  {
   "cell_type": "markdown",
   "id": "0eee42e6",
   "metadata": {},
   "source": [
    "#### Finding Minimum value of a particular column"
   ]
  },
  {
   "cell_type": "code",
   "execution_count": 12,
   "id": "afa1adb3",
   "metadata": {},
   "outputs": [
    {
     "data": {
      "text/plain": [
       "Total alcohol consumption per capita    0.003\n",
       "dtype: float64"
      ]
     },
     "execution_count": 12,
     "metadata": {},
     "output_type": "execute_result"
    }
   ],
   "source": [
    "df[['Total alcohol consumption per capita']].min()"
   ]
  },
  {
   "cell_type": "code",
   "execution_count": null,
   "id": "35579ef4",
   "metadata": {},
   "outputs": [],
   "source": []
  },
  {
   "cell_type": "markdown",
   "id": "c95fcaa3",
   "metadata": {},
   "source": [
    "#### Finding Mean value of a particular column"
   ]
  },
  {
   "cell_type": "code",
   "execution_count": 13,
   "id": "6a310745",
   "metadata": {},
   "outputs": [
    {
     "data": {
      "text/plain": [
       "6.13784103826731"
      ]
     },
     "execution_count": 13,
     "metadata": {},
     "output_type": "execute_result"
    }
   ],
   "source": [
    "df['Total alcohol consumption per capita' ].mean()"
   ]
  },
  {
   "cell_type": "markdown",
   "id": "b6119dda",
   "metadata": {},
   "source": [
    " "
   ]
  },
  {
   "cell_type": "markdown",
   "id": "4fd2f8bf",
   "metadata": {},
   "source": [
    "#### Finding Maximum value of a particular column and displaying the row"
   ]
  },
  {
   "cell_type": "code",
   "execution_count": 14,
   "id": "196a144c",
   "metadata": {},
   "outputs": [
    {
     "data": {
      "text/html": [
       "<div>\n",
       "<style scoped>\n",
       "    .dataframe tbody tr th:only-of-type {\n",
       "        vertical-align: middle;\n",
       "    }\n",
       "\n",
       "    .dataframe tbody tr th {\n",
       "        vertical-align: top;\n",
       "    }\n",
       "\n",
       "    .dataframe thead th {\n",
       "        text-align: right;\n",
       "    }\n",
       "</style>\n",
       "<table border=\"1\" class=\"dataframe\">\n",
       "  <thead>\n",
       "    <tr style=\"text-align: right;\">\n",
       "      <th></th>\n",
       "      <th>Code</th>\n",
       "      <th>Year</th>\n",
       "      <th>Total alcohol consumption per capita</th>\n",
       "      <th>GDP per capita, PPP</th>\n",
       "      <th>Population</th>\n",
       "      <th>Continent</th>\n",
       "    </tr>\n",
       "    <tr>\n",
       "      <th>Entity</th>\n",
       "      <th></th>\n",
       "      <th></th>\n",
       "      <th></th>\n",
       "      <th></th>\n",
       "      <th></th>\n",
       "      <th></th>\n",
       "    </tr>\n",
       "  </thead>\n",
       "  <tbody>\n",
       "    <tr>\n",
       "      <th>Seychelles</th>\n",
       "      <td>SYC</td>\n",
       "      <td>2018.0</td>\n",
       "      <td>20.5</td>\n",
       "      <td>27342.161652</td>\n",
       "      <td>97094.0</td>\n",
       "      <td>NaN</td>\n",
       "    </tr>\n",
       "  </tbody>\n",
       "</table>\n",
       "</div>"
      ],
      "text/plain": [
       "           Code    Year  Total alcohol consumption per capita  \\\n",
       "Entity                                                          \n",
       "Seychelles  SYC  2018.0                                  20.5   \n",
       "\n",
       "            GDP per capita, PPP  Population Continent  \n",
       "Entity                                                 \n",
       "Seychelles         27342.161652     97094.0       NaN  "
      ]
     },
     "execution_count": 14,
     "metadata": {},
     "output_type": "execute_result"
    }
   ],
   "source": [
    "df[df['Total alcohol consumption per capita'] == df['Total alcohol consumption per capita'].max()]"
   ]
  },
  {
   "cell_type": "markdown",
   "id": "9b44c272",
   "metadata": {},
   "source": [
    "  "
   ]
  },
  {
   "cell_type": "markdown",
   "id": "f9044a78",
   "metadata": {},
   "source": [
    "#### Finding Minimum value of a particular column and displaying the row"
   ]
  },
  {
   "cell_type": "code",
   "execution_count": 16,
   "id": "258d9600",
   "metadata": {},
   "outputs": [
    {
     "data": {
      "text/html": [
       "<div>\n",
       "<style scoped>\n",
       "    .dataframe tbody tr th:only-of-type {\n",
       "        vertical-align: middle;\n",
       "    }\n",
       "\n",
       "    .dataframe tbody tr th {\n",
       "        vertical-align: top;\n",
       "    }\n",
       "\n",
       "    .dataframe thead th {\n",
       "        text-align: right;\n",
       "    }\n",
       "</style>\n",
       "<table border=\"1\" class=\"dataframe\">\n",
       "  <thead>\n",
       "    <tr style=\"text-align: right;\">\n",
       "      <th></th>\n",
       "      <th>Total alcohol consumption per capita</th>\n",
       "    </tr>\n",
       "    <tr>\n",
       "      <th>Entity</th>\n",
       "      <th></th>\n",
       "    </tr>\n",
       "  </thead>\n",
       "  <tbody>\n",
       "    <tr>\n",
       "      <th>Kuwait</th>\n",
       "      <td>0.003</td>\n",
       "    </tr>\n",
       "    <tr>\n",
       "      <th>Kuwait</th>\n",
       "      <td>0.003</td>\n",
       "    </tr>\n",
       "  </tbody>\n",
       "</table>\n",
       "</div>"
      ],
      "text/plain": [
       "        Total alcohol consumption per capita\n",
       "Entity                                      \n",
       "Kuwait                                 0.003\n",
       "Kuwait                                 0.003"
      ]
     },
     "execution_count": 16,
     "metadata": {},
     "output_type": "execute_result"
    }
   ],
   "source": [
    "df[['Total alcohol consumption per capita']][df['Total alcohol consumption per capita'] == df['Total alcohol consumption per capita'].min()]"
   ]
  },
  {
   "cell_type": "markdown",
   "id": "d0d5c4bd",
   "metadata": {},
   "source": [
    " "
   ]
  },
  {
   "cell_type": "markdown",
   "id": "d4282736",
   "metadata": {},
   "source": [
    "#### Grouping the data rows with respect to the column values specified"
   ]
  },
  {
   "cell_type": "code",
   "execution_count": 17,
   "id": "339152f2",
   "metadata": {},
   "outputs": [
    {
     "data": {
      "text/plain": [
       "<pandas.core.groupby.generic.DataFrameGroupBy object at 0x000001EC0A41C310>"
      ]
     },
     "execution_count": 17,
     "metadata": {},
     "output_type": "execute_result"
    }
   ],
   "source": [
    "grp= df.groupby('Entity')\n",
    "grp"
   ]
  },
  {
   "cell_type": "markdown",
   "id": "79818fec",
   "metadata": {},
   "source": [
    "  "
   ]
  },
  {
   "cell_type": "markdown",
   "id": "8366525f",
   "metadata": {},
   "source": [
    "#### After grouping ,printing the values"
   ]
  },
  {
   "cell_type": "code",
   "execution_count": null,
   "id": "47ffc1f2",
   "metadata": {},
   "outputs": [],
   "source": [
    "for country,country_df in grp:\n",
    "    print(country)\n",
    "    print(country_df)"
   ]
  },
  {
   "cell_type": "markdown",
   "id": "655c0f95",
   "metadata": {},
   "source": [
    "  "
   ]
  },
  {
   "cell_type": "markdown",
   "id": "6a4eb604",
   "metadata": {},
   "source": [
    "#### Accessing a specific group"
   ]
  },
  {
   "cell_type": "code",
   "execution_count": 19,
   "id": "2375af3f",
   "metadata": {},
   "outputs": [
    {
     "data": {
      "text/html": [
       "<div>\n",
       "<style scoped>\n",
       "    .dataframe tbody tr th:only-of-type {\n",
       "        vertical-align: middle;\n",
       "    }\n",
       "\n",
       "    .dataframe tbody tr th {\n",
       "        vertical-align: top;\n",
       "    }\n",
       "\n",
       "    .dataframe thead th {\n",
       "        text-align: right;\n",
       "    }\n",
       "</style>\n",
       "<table border=\"1\" class=\"dataframe\">\n",
       "  <thead>\n",
       "    <tr style=\"text-align: right;\">\n",
       "      <th></th>\n",
       "      <th>Code</th>\n",
       "      <th>Year</th>\n",
       "      <th>Total alcohol consumption per capita</th>\n",
       "      <th>GDP per capita, PPP</th>\n",
       "      <th>Population</th>\n",
       "      <th>Continent</th>\n",
       "    </tr>\n",
       "    <tr>\n",
       "      <th>Entity</th>\n",
       "      <th></th>\n",
       "      <th></th>\n",
       "      <th></th>\n",
       "      <th></th>\n",
       "      <th></th>\n",
       "      <th></th>\n",
       "    </tr>\n",
       "  </thead>\n",
       "  <tbody>\n",
       "    <tr>\n",
       "      <th>India</th>\n",
       "      <td>IND</td>\n",
       "      <td>2000.0</td>\n",
       "      <td>2.28</td>\n",
       "      <td>2578.591530</td>\n",
       "      <td>1.056576e+09</td>\n",
       "      <td>NaN</td>\n",
       "    </tr>\n",
       "    <tr>\n",
       "      <th>India</th>\n",
       "      <td>IND</td>\n",
       "      <td>2005.0</td>\n",
       "      <td>2.33</td>\n",
       "      <td>3245.299885</td>\n",
       "      <td>1.147610e+09</td>\n",
       "      <td>NaN</td>\n",
       "    </tr>\n",
       "    <tr>\n",
       "      <th>India</th>\n",
       "      <td>IND</td>\n",
       "      <td>2010.0</td>\n",
       "      <td>4.35</td>\n",
       "      <td>4234.979573</td>\n",
       "      <td>1.234281e+09</td>\n",
       "      <td>NaN</td>\n",
       "    </tr>\n",
       "    <tr>\n",
       "      <th>India</th>\n",
       "      <td>IND</td>\n",
       "      <td>2015.0</td>\n",
       "      <td>5.54</td>\n",
       "      <td>5464.394057</td>\n",
       "      <td>1.310152e+09</td>\n",
       "      <td>Asia</td>\n",
       "    </tr>\n",
       "    <tr>\n",
       "      <th>India</th>\n",
       "      <td>IND</td>\n",
       "      <td>2018.0</td>\n",
       "      <td>5.54</td>\n",
       "      <td>6518.845055</td>\n",
       "      <td>1.352642e+09</td>\n",
       "      <td>NaN</td>\n",
       "    </tr>\n",
       "  </tbody>\n",
       "</table>\n",
       "</div>"
      ],
      "text/plain": [
       "       Code    Year  Total alcohol consumption per capita  \\\n",
       "Entity                                                      \n",
       "India   IND  2000.0                                  2.28   \n",
       "India   IND  2005.0                                  2.33   \n",
       "India   IND  2010.0                                  4.35   \n",
       "India   IND  2015.0                                  5.54   \n",
       "India   IND  2018.0                                  5.54   \n",
       "\n",
       "        GDP per capita, PPP    Population Continent  \n",
       "Entity                                               \n",
       "India           2578.591530  1.056576e+09       NaN  \n",
       "India           3245.299885  1.147610e+09       NaN  \n",
       "India           4234.979573  1.234281e+09       NaN  \n",
       "India           5464.394057  1.310152e+09      Asia  \n",
       "India           6518.845055  1.352642e+09       NaN  "
      ]
     },
     "execution_count": 19,
     "metadata": {},
     "output_type": "execute_result"
    }
   ],
   "source": [
    "grp.get_group('India')"
   ]
  },
  {
   "cell_type": "markdown",
   "id": "6ae0120e",
   "metadata": {},
   "source": [
    " "
   ]
  },
  {
   "cell_type": "markdown",
   "id": "e9119416",
   "metadata": {},
   "source": [
    "#### Calculating Mean of each group "
   ]
  },
  {
   "cell_type": "code",
   "execution_count": 20,
   "id": "ac590bf5",
   "metadata": {},
   "outputs": [],
   "source": [
    "df_grp=grp.mean()"
   ]
  },
  {
   "cell_type": "code",
   "execution_count": 21,
   "id": "c6e79e24",
   "metadata": {},
   "outputs": [
    {
     "data": {
      "text/html": [
       "<div>\n",
       "<style scoped>\n",
       "    .dataframe tbody tr th:only-of-type {\n",
       "        vertical-align: middle;\n",
       "    }\n",
       "\n",
       "    .dataframe tbody tr th {\n",
       "        vertical-align: top;\n",
       "    }\n",
       "\n",
       "    .dataframe thead tr th {\n",
       "        text-align: left;\n",
       "    }\n",
       "\n",
       "    .dataframe thead tr:last-of-type th {\n",
       "        text-align: right;\n",
       "    }\n",
       "</style>\n",
       "<table border=\"1\" class=\"dataframe\">\n",
       "  <thead>\n",
       "    <tr>\n",
       "      <th></th>\n",
       "      <th colspan=\"8\" halign=\"left\">Year</th>\n",
       "      <th colspan=\"2\" halign=\"left\">Total alcohol consumption per capita</th>\n",
       "      <th>...</th>\n",
       "      <th colspan=\"2\" halign=\"left\">GDP per capita, PPP</th>\n",
       "      <th colspan=\"8\" halign=\"left\">Population</th>\n",
       "    </tr>\n",
       "    <tr>\n",
       "      <th></th>\n",
       "      <th>count</th>\n",
       "      <th>mean</th>\n",
       "      <th>std</th>\n",
       "      <th>min</th>\n",
       "      <th>25%</th>\n",
       "      <th>50%</th>\n",
       "      <th>75%</th>\n",
       "      <th>max</th>\n",
       "      <th>count</th>\n",
       "      <th>mean</th>\n",
       "      <th>...</th>\n",
       "      <th>75%</th>\n",
       "      <th>max</th>\n",
       "      <th>count</th>\n",
       "      <th>mean</th>\n",
       "      <th>std</th>\n",
       "      <th>min</th>\n",
       "      <th>25%</th>\n",
       "      <th>50%</th>\n",
       "      <th>75%</th>\n",
       "      <th>max</th>\n",
       "    </tr>\n",
       "    <tr>\n",
       "      <th>Entity</th>\n",
       "      <th></th>\n",
       "      <th></th>\n",
       "      <th></th>\n",
       "      <th></th>\n",
       "      <th></th>\n",
       "      <th></th>\n",
       "      <th></th>\n",
       "      <th></th>\n",
       "      <th></th>\n",
       "      <th></th>\n",
       "      <th></th>\n",
       "      <th></th>\n",
       "      <th></th>\n",
       "      <th></th>\n",
       "      <th></th>\n",
       "      <th></th>\n",
       "      <th></th>\n",
       "      <th></th>\n",
       "      <th></th>\n",
       "      <th></th>\n",
       "      <th></th>\n",
       "    </tr>\n",
       "  </thead>\n",
       "  <tbody>\n",
       "    <tr>\n",
       "      <th>Afghanistan</th>\n",
       "      <td>3.0</td>\n",
       "      <td>2014.333333</td>\n",
       "      <td>4.041452</td>\n",
       "      <td>2010.0</td>\n",
       "      <td>2012.5</td>\n",
       "      <td>2015.0</td>\n",
       "      <td>2016.5</td>\n",
       "      <td>2018.0</td>\n",
       "      <td>3.0</td>\n",
       "      <td>0.210000</td>\n",
       "      <td>...</td>\n",
       "      <td>2051.035147</td>\n",
       "      <td>2068.265904</td>\n",
       "      <td>3.0</td>\n",
       "      <td>3.359035e+07</td>\n",
       "      <td>4.056354e+06</td>\n",
       "      <td>2.918551e+07</td>\n",
       "      <td>3.179956e+07</td>\n",
       "      <td>3.441360e+07</td>\n",
       "      <td>3.579276e+07</td>\n",
       "      <td>3.717192e+07</td>\n",
       "    </tr>\n",
       "    <tr>\n",
       "      <th>Africa Eastern and Southern</th>\n",
       "      <td>5.0</td>\n",
       "      <td>2009.600000</td>\n",
       "      <td>7.300685</td>\n",
       "      <td>2000.0</td>\n",
       "      <td>2005.0</td>\n",
       "      <td>2010.0</td>\n",
       "      <td>2015.0</td>\n",
       "      <td>2018.0</td>\n",
       "      <td>5.0</td>\n",
       "      <td>5.131846</td>\n",
       "      <td>...</td>\n",
       "      <td>3549.480563</td>\n",
       "      <td>3579.271917</td>\n",
       "      <td>0.0</td>\n",
       "      <td>NaN</td>\n",
       "      <td>NaN</td>\n",
       "      <td>NaN</td>\n",
       "      <td>NaN</td>\n",
       "      <td>NaN</td>\n",
       "      <td>NaN</td>\n",
       "      <td>NaN</td>\n",
       "    </tr>\n",
       "    <tr>\n",
       "      <th>Africa Western and Central</th>\n",
       "      <td>5.0</td>\n",
       "      <td>2009.600000</td>\n",
       "      <td>7.300685</td>\n",
       "      <td>2000.0</td>\n",
       "      <td>2005.0</td>\n",
       "      <td>2010.0</td>\n",
       "      <td>2015.0</td>\n",
       "      <td>2018.0</td>\n",
       "      <td>5.0</td>\n",
       "      <td>7.421209</td>\n",
       "      <td>...</td>\n",
       "      <td>4115.235801</td>\n",
       "      <td>4202.057923</td>\n",
       "      <td>0.0</td>\n",
       "      <td>NaN</td>\n",
       "      <td>NaN</td>\n",
       "      <td>NaN</td>\n",
       "      <td>NaN</td>\n",
       "      <td>NaN</td>\n",
       "      <td>NaN</td>\n",
       "      <td>NaN</td>\n",
       "    </tr>\n",
       "    <tr>\n",
       "      <th>Albania</th>\n",
       "      <td>5.0</td>\n",
       "      <td>2009.600000</td>\n",
       "      <td>7.300685</td>\n",
       "      <td>2000.0</td>\n",
       "      <td>2005.0</td>\n",
       "      <td>2010.0</td>\n",
       "      <td>2015.0</td>\n",
       "      <td>2018.0</td>\n",
       "      <td>5.0</td>\n",
       "      <td>7.164000</td>\n",
       "      <td>...</td>\n",
       "      <td>11878.488093</td>\n",
       "      <td>13323.753356</td>\n",
       "      <td>5.0</td>\n",
       "      <td>2.987469e+06</td>\n",
       "      <td>1.138995e+05</td>\n",
       "      <td>2.882735e+06</td>\n",
       "      <td>2.890524e+06</td>\n",
       "      <td>2.948029e+06</td>\n",
       "      <td>3.086810e+06</td>\n",
       "      <td>3.129246e+06</td>\n",
       "    </tr>\n",
       "    <tr>\n",
       "      <th>Algeria</th>\n",
       "      <td>5.0</td>\n",
       "      <td>2009.600000</td>\n",
       "      <td>7.300685</td>\n",
       "      <td>2000.0</td>\n",
       "      <td>2005.0</td>\n",
       "      <td>2010.0</td>\n",
       "      <td>2015.0</td>\n",
       "      <td>2018.0</td>\n",
       "      <td>5.0</td>\n",
       "      <td>0.784000</td>\n",
       "      <td>...</td>\n",
       "      <td>11642.198345</td>\n",
       "      <td>11696.965229</td>\n",
       "      <td>5.0</td>\n",
       "      <td>3.642517e+07</td>\n",
       "      <td>4.595962e+06</td>\n",
       "      <td>3.104224e+07</td>\n",
       "      <td>3.314972e+07</td>\n",
       "      <td>3.597745e+07</td>\n",
       "      <td>3.972802e+07</td>\n",
       "      <td>4.222842e+07</td>\n",
       "    </tr>\n",
       "    <tr>\n",
       "      <th>...</th>\n",
       "      <td>...</td>\n",
       "      <td>...</td>\n",
       "      <td>...</td>\n",
       "      <td>...</td>\n",
       "      <td>...</td>\n",
       "      <td>...</td>\n",
       "      <td>...</td>\n",
       "      <td>...</td>\n",
       "      <td>...</td>\n",
       "      <td>...</td>\n",
       "      <td>...</td>\n",
       "      <td>...</td>\n",
       "      <td>...</td>\n",
       "      <td>...</td>\n",
       "      <td>...</td>\n",
       "      <td>...</td>\n",
       "      <td>...</td>\n",
       "      <td>...</td>\n",
       "      <td>...</td>\n",
       "      <td>...</td>\n",
       "      <td>...</td>\n",
       "    </tr>\n",
       "    <tr>\n",
       "      <th>Vanuatu</th>\n",
       "      <td>5.0</td>\n",
       "      <td>2009.600000</td>\n",
       "      <td>7.300685</td>\n",
       "      <td>2000.0</td>\n",
       "      <td>2005.0</td>\n",
       "      <td>2010.0</td>\n",
       "      <td>2015.0</td>\n",
       "      <td>2018.0</td>\n",
       "      <td>5.0</td>\n",
       "      <td>1.692000</td>\n",
       "      <td>...</td>\n",
       "      <td>3088.978879</td>\n",
       "      <td>3093.461547</td>\n",
       "      <td>5.0</td>\n",
       "      <td>2.388530e+05</td>\n",
       "      <td>4.394288e+04</td>\n",
       "      <td>1.849640e+05</td>\n",
       "      <td>2.092820e+05</td>\n",
       "      <td>2.362160e+05</td>\n",
       "      <td>2.711280e+05</td>\n",
       "      <td>2.926750e+05</td>\n",
       "    </tr>\n",
       "    <tr>\n",
       "      <th>Vietnam</th>\n",
       "      <td>5.0</td>\n",
       "      <td>2009.600000</td>\n",
       "      <td>7.300685</td>\n",
       "      <td>2000.0</td>\n",
       "      <td>2005.0</td>\n",
       "      <td>2010.0</td>\n",
       "      <td>2015.0</td>\n",
       "      <td>2018.0</td>\n",
       "      <td>5.0</td>\n",
       "      <td>5.252000</td>\n",
       "      <td>...</td>\n",
       "      <td>6438.259854</td>\n",
       "      <td>7585.943155</td>\n",
       "      <td>5.0</td>\n",
       "      <td>8.798675e+07</td>\n",
       "      <td>6.356589e+06</td>\n",
       "      <td>7.991041e+07</td>\n",
       "      <td>8.383266e+07</td>\n",
       "      <td>8.796766e+07</td>\n",
       "      <td>9.267708e+07</td>\n",
       "      <td>9.554596e+07</td>\n",
       "    </tr>\n",
       "    <tr>\n",
       "      <th>World</th>\n",
       "      <td>5.0</td>\n",
       "      <td>2009.600000</td>\n",
       "      <td>7.300685</td>\n",
       "      <td>2000.0</td>\n",
       "      <td>2005.0</td>\n",
       "      <td>2010.0</td>\n",
       "      <td>2015.0</td>\n",
       "      <td>2018.0</td>\n",
       "      <td>5.0</td>\n",
       "      <td>5.936044</td>\n",
       "      <td>...</td>\n",
       "      <td>15509.996467</td>\n",
       "      <td>16636.848011</td>\n",
       "      <td>5.0</td>\n",
       "      <td>6.930866e+09</td>\n",
       "      <td>6.048552e+08</td>\n",
       "      <td>6.143777e+09</td>\n",
       "      <td>6.542205e+09</td>\n",
       "      <td>6.957138e+09</td>\n",
       "      <td>7.380118e+09</td>\n",
       "      <td>7.631091e+09</td>\n",
       "    </tr>\n",
       "    <tr>\n",
       "      <th>Zambia</th>\n",
       "      <td>5.0</td>\n",
       "      <td>2009.600000</td>\n",
       "      <td>7.300685</td>\n",
       "      <td>2000.0</td>\n",
       "      <td>2005.0</td>\n",
       "      <td>2010.0</td>\n",
       "      <td>2015.0</td>\n",
       "      <td>2018.0</td>\n",
       "      <td>5.0</td>\n",
       "      <td>5.362000</td>\n",
       "      <td>...</td>\n",
       "      <td>3443.553254</td>\n",
       "      <td>3521.542063</td>\n",
       "      <td>5.0</td>\n",
       "      <td>1.382185e+07</td>\n",
       "      <td>2.837417e+06</td>\n",
       "      <td>1.041594e+07</td>\n",
       "      <td>1.185624e+07</td>\n",
       "      <td>1.360599e+07</td>\n",
       "      <td>1.587937e+07</td>\n",
       "      <td>1.735171e+07</td>\n",
       "    </tr>\n",
       "    <tr>\n",
       "      <th>Zimbabwe</th>\n",
       "      <td>5.0</td>\n",
       "      <td>2009.600000</td>\n",
       "      <td>7.300685</td>\n",
       "      <td>2000.0</td>\n",
       "      <td>2005.0</td>\n",
       "      <td>2010.0</td>\n",
       "      <td>2015.0</td>\n",
       "      <td>2018.0</td>\n",
       "      <td>5.0</td>\n",
       "      <td>3.750000</td>\n",
       "      <td>...</td>\n",
       "      <td>3341.665418</td>\n",
       "      <td>3756.139483</td>\n",
       "      <td>5.0</td>\n",
       "      <td>1.298187e+07</td>\n",
       "      <td>1.109856e+06</td>\n",
       "      <td>1.188148e+07</td>\n",
       "      <td>1.207670e+07</td>\n",
       "      <td>1.269773e+07</td>\n",
       "      <td>1.381464e+07</td>\n",
       "      <td>1.443881e+07</td>\n",
       "    </tr>\n",
       "  </tbody>\n",
       "</table>\n",
       "<p>226 rows × 32 columns</p>\n",
       "</div>"
      ],
      "text/plain": [
       "                             Year                                         \\\n",
       "                            count         mean       std     min     25%   \n",
       "Entity                                                                     \n",
       "Afghanistan                   3.0  2014.333333  4.041452  2010.0  2012.5   \n",
       "Africa Eastern and Southern   5.0  2009.600000  7.300685  2000.0  2005.0   \n",
       "Africa Western and Central    5.0  2009.600000  7.300685  2000.0  2005.0   \n",
       "Albania                       5.0  2009.600000  7.300685  2000.0  2005.0   \n",
       "Algeria                       5.0  2009.600000  7.300685  2000.0  2005.0   \n",
       "...                           ...          ...       ...     ...     ...   \n",
       "Vanuatu                       5.0  2009.600000  7.300685  2000.0  2005.0   \n",
       "Vietnam                       5.0  2009.600000  7.300685  2000.0  2005.0   \n",
       "World                         5.0  2009.600000  7.300685  2000.0  2005.0   \n",
       "Zambia                        5.0  2009.600000  7.300685  2000.0  2005.0   \n",
       "Zimbabwe                      5.0  2009.600000  7.300685  2000.0  2005.0   \n",
       "\n",
       "                                                     \\\n",
       "                                50%     75%     max   \n",
       "Entity                                                \n",
       "Afghanistan                  2015.0  2016.5  2018.0   \n",
       "Africa Eastern and Southern  2010.0  2015.0  2018.0   \n",
       "Africa Western and Central   2010.0  2015.0  2018.0   \n",
       "Albania                      2010.0  2015.0  2018.0   \n",
       "Algeria                      2010.0  2015.0  2018.0   \n",
       "...                             ...     ...     ...   \n",
       "Vanuatu                      2010.0  2015.0  2018.0   \n",
       "Vietnam                      2010.0  2015.0  2018.0   \n",
       "World                        2010.0  2015.0  2018.0   \n",
       "Zambia                       2010.0  2015.0  2018.0   \n",
       "Zimbabwe                     2010.0  2015.0  2018.0   \n",
       "\n",
       "                            Total alcohol consumption per capita            \\\n",
       "                                                           count      mean   \n",
       "Entity                                                                       \n",
       "Afghanistan                                                  3.0  0.210000   \n",
       "Africa Eastern and Southern                                  5.0  5.131846   \n",
       "Africa Western and Central                                   5.0  7.421209   \n",
       "Albania                                                      5.0  7.164000   \n",
       "Algeria                                                      5.0  0.784000   \n",
       "...                                                          ...       ...   \n",
       "Vanuatu                                                      5.0  1.692000   \n",
       "Vietnam                                                      5.0  5.252000   \n",
       "World                                                        5.0  5.936044   \n",
       "Zambia                                                       5.0  5.362000   \n",
       "Zimbabwe                                                     5.0  3.750000   \n",
       "\n",
       "                             ... GDP per capita, PPP               Population  \\\n",
       "                             ...                 75%           max      count   \n",
       "Entity                       ...                                                \n",
       "Afghanistan                  ...         2051.035147   2068.265904        3.0   \n",
       "Africa Eastern and Southern  ...         3549.480563   3579.271917        0.0   \n",
       "Africa Western and Central   ...         4115.235801   4202.057923        0.0   \n",
       "Albania                      ...        11878.488093  13323.753356        5.0   \n",
       "Algeria                      ...        11642.198345  11696.965229        5.0   \n",
       "...                          ...                 ...           ...        ...   \n",
       "Vanuatu                      ...         3088.978879   3093.461547        5.0   \n",
       "Vietnam                      ...         6438.259854   7585.943155        5.0   \n",
       "World                        ...        15509.996467  16636.848011        5.0   \n",
       "Zambia                       ...         3443.553254   3521.542063        5.0   \n",
       "Zimbabwe                     ...         3341.665418   3756.139483        5.0   \n",
       "\n",
       "                                                                       \\\n",
       "                                     mean           std           min   \n",
       "Entity                                                                  \n",
       "Afghanistan                  3.359035e+07  4.056354e+06  2.918551e+07   \n",
       "Africa Eastern and Southern           NaN           NaN           NaN   \n",
       "Africa Western and Central            NaN           NaN           NaN   \n",
       "Albania                      2.987469e+06  1.138995e+05  2.882735e+06   \n",
       "Algeria                      3.642517e+07  4.595962e+06  3.104224e+07   \n",
       "...                                   ...           ...           ...   \n",
       "Vanuatu                      2.388530e+05  4.394288e+04  1.849640e+05   \n",
       "Vietnam                      8.798675e+07  6.356589e+06  7.991041e+07   \n",
       "World                        6.930866e+09  6.048552e+08  6.143777e+09   \n",
       "Zambia                       1.382185e+07  2.837417e+06  1.041594e+07   \n",
       "Zimbabwe                     1.298187e+07  1.109856e+06  1.188148e+07   \n",
       "\n",
       "                                                                       \\\n",
       "                                      25%           50%           75%   \n",
       "Entity                                                                  \n",
       "Afghanistan                  3.179956e+07  3.441360e+07  3.579276e+07   \n",
       "Africa Eastern and Southern           NaN           NaN           NaN   \n",
       "Africa Western and Central            NaN           NaN           NaN   \n",
       "Albania                      2.890524e+06  2.948029e+06  3.086810e+06   \n",
       "Algeria                      3.314972e+07  3.597745e+07  3.972802e+07   \n",
       "...                                   ...           ...           ...   \n",
       "Vanuatu                      2.092820e+05  2.362160e+05  2.711280e+05   \n",
       "Vietnam                      8.383266e+07  8.796766e+07  9.267708e+07   \n",
       "World                        6.542205e+09  6.957138e+09  7.380118e+09   \n",
       "Zambia                       1.185624e+07  1.360599e+07  1.587937e+07   \n",
       "Zimbabwe                     1.207670e+07  1.269773e+07  1.381464e+07   \n",
       "\n",
       "                                           \n",
       "                                      max  \n",
       "Entity                                     \n",
       "Afghanistan                  3.717192e+07  \n",
       "Africa Eastern and Southern           NaN  \n",
       "Africa Western and Central            NaN  \n",
       "Albania                      3.129246e+06  \n",
       "Algeria                      4.222842e+07  \n",
       "...                                   ...  \n",
       "Vanuatu                      2.926750e+05  \n",
       "Vietnam                      9.554596e+07  \n",
       "World                        7.631091e+09  \n",
       "Zambia                       1.735171e+07  \n",
       "Zimbabwe                     1.443881e+07  \n",
       "\n",
       "[226 rows x 32 columns]"
      ]
     },
     "execution_count": 21,
     "metadata": {},
     "output_type": "execute_result"
    }
   ],
   "source": [
    "grp.describe()"
   ]
  },
  {
   "cell_type": "markdown",
   "id": "e26ce3ef",
   "metadata": {},
   "source": [
    " "
   ]
  },
  {
   "cell_type": "markdown",
   "id": "4c69be7c",
   "metadata": {},
   "source": [
    "### If we want a data of specific year the below method can be used to create a separate CSV file of a particular year"
   ]
  },
  {
   "cell_type": "code",
   "execution_count": 22,
   "id": "962b77dd",
   "metadata": {},
   "outputs": [
    {
     "name": "stderr",
     "output_type": "stream",
     "text": [
      "C:\\Users\\dhrumil\\anaconda3\\lib\\site-packages\\pandas\\core\\frame.py:4906: SettingWithCopyWarning: \n",
      "A value is trying to be set on a copy of a slice from a DataFrame\n",
      "\n",
      "See the caveats in the documentation: https://pandas.pydata.org/pandas-docs/stable/user_guide/indexing.html#returning-a-view-versus-a-copy\n",
      "  return super().drop(\n"
     ]
    },
    {
     "data": {
      "text/html": [
       "<div>\n",
       "<style scoped>\n",
       "    .dataframe tbody tr th:only-of-type {\n",
       "        vertical-align: middle;\n",
       "    }\n",
       "\n",
       "    .dataframe tbody tr th {\n",
       "        vertical-align: top;\n",
       "    }\n",
       "\n",
       "    .dataframe thead th {\n",
       "        text-align: right;\n",
       "    }\n",
       "</style>\n",
       "<table border=\"1\" class=\"dataframe\">\n",
       "  <thead>\n",
       "    <tr style=\"text-align: right;\">\n",
       "      <th></th>\n",
       "      <th>Code</th>\n",
       "      <th>Year</th>\n",
       "      <th>Total alcohol consumption per capita</th>\n",
       "      <th>GDP per capita, PPP</th>\n",
       "      <th>Population</th>\n",
       "    </tr>\n",
       "    <tr>\n",
       "      <th>Entity</th>\n",
       "      <th></th>\n",
       "      <th></th>\n",
       "      <th></th>\n",
       "      <th></th>\n",
       "      <th></th>\n",
       "    </tr>\n",
       "  </thead>\n",
       "  <tbody>\n",
       "    <tr>\n",
       "      <th>Afghanistan</th>\n",
       "      <td>AFG</td>\n",
       "      <td>2018.0</td>\n",
       "      <td>0.210000</td>\n",
       "      <td>2033.804389</td>\n",
       "      <td>3.717192e+07</td>\n",
       "    </tr>\n",
       "    <tr>\n",
       "      <th>Africa Eastern and Southern</th>\n",
       "      <td>NaN</td>\n",
       "      <td>2018.0</td>\n",
       "      <td>5.170911</td>\n",
       "      <td>3579.271917</td>\n",
       "      <td>NaN</td>\n",
       "    </tr>\n",
       "    <tr>\n",
       "      <th>Africa Western and Central</th>\n",
       "      <td>NaN</td>\n",
       "      <td>2018.0</td>\n",
       "      <td>6.835266</td>\n",
       "      <td>4115.235801</td>\n",
       "      <td>NaN</td>\n",
       "    </tr>\n",
       "    <tr>\n",
       "      <th>Albania</th>\n",
       "      <td>ALB</td>\n",
       "      <td>2018.0</td>\n",
       "      <td>7.170000</td>\n",
       "      <td>13323.753356</td>\n",
       "      <td>2.882735e+06</td>\n",
       "    </tr>\n",
       "    <tr>\n",
       "      <th>Algeria</th>\n",
       "      <td>DZA</td>\n",
       "      <td>2018.0</td>\n",
       "      <td>0.950000</td>\n",
       "      <td>11642.198345</td>\n",
       "      <td>4.222842e+07</td>\n",
       "    </tr>\n",
       "    <tr>\n",
       "      <th>...</th>\n",
       "      <td>...</td>\n",
       "      <td>...</td>\n",
       "      <td>...</td>\n",
       "      <td>...</td>\n",
       "      <td>...</td>\n",
       "    </tr>\n",
       "    <tr>\n",
       "      <th>Vanuatu</th>\n",
       "      <td>VUT</td>\n",
       "      <td>2018.0</td>\n",
       "      <td>2.250000</td>\n",
       "      <td>3093.461547</td>\n",
       "      <td>2.926750e+05</td>\n",
       "    </tr>\n",
       "    <tr>\n",
       "      <th>Vietnam</th>\n",
       "      <td>VNM</td>\n",
       "      <td>2018.0</td>\n",
       "      <td>8.660000</td>\n",
       "      <td>7585.943155</td>\n",
       "      <td>9.554596e+07</td>\n",
       "    </tr>\n",
       "    <tr>\n",
       "      <th>World</th>\n",
       "      <td>OWID_WRL</td>\n",
       "      <td>2018.0</td>\n",
       "      <td>6.181404</td>\n",
       "      <td>16636.848011</td>\n",
       "      <td>7.631091e+09</td>\n",
       "    </tr>\n",
       "    <tr>\n",
       "      <th>Zambia</th>\n",
       "      <td>ZMB</td>\n",
       "      <td>2018.0</td>\n",
       "      <td>6.540000</td>\n",
       "      <td>3521.542063</td>\n",
       "      <td>1.735171e+07</td>\n",
       "    </tr>\n",
       "    <tr>\n",
       "      <th>Zimbabwe</th>\n",
       "      <td>ZWE</td>\n",
       "      <td>2018.0</td>\n",
       "      <td>4.670000</td>\n",
       "      <td>3341.665418</td>\n",
       "      <td>1.443881e+07</td>\n",
       "    </tr>\n",
       "  </tbody>\n",
       "</table>\n",
       "<p>226 rows × 5 columns</p>\n",
       "</div>"
      ],
      "text/plain": [
       "                                 Code    Year  \\\n",
       "Entity                                          \n",
       "Afghanistan                       AFG  2018.0   \n",
       "Africa Eastern and Southern       NaN  2018.0   \n",
       "Africa Western and Central        NaN  2018.0   \n",
       "Albania                           ALB  2018.0   \n",
       "Algeria                           DZA  2018.0   \n",
       "...                               ...     ...   \n",
       "Vanuatu                           VUT  2018.0   \n",
       "Vietnam                           VNM  2018.0   \n",
       "World                        OWID_WRL  2018.0   \n",
       "Zambia                            ZMB  2018.0   \n",
       "Zimbabwe                          ZWE  2018.0   \n",
       "\n",
       "                             Total alcohol consumption per capita  \\\n",
       "Entity                                                              \n",
       "Afghanistan                                              0.210000   \n",
       "Africa Eastern and Southern                              5.170911   \n",
       "Africa Western and Central                               6.835266   \n",
       "Albania                                                  7.170000   \n",
       "Algeria                                                  0.950000   \n",
       "...                                                           ...   \n",
       "Vanuatu                                                  2.250000   \n",
       "Vietnam                                                  8.660000   \n",
       "World                                                    6.181404   \n",
       "Zambia                                                   6.540000   \n",
       "Zimbabwe                                                 4.670000   \n",
       "\n",
       "                             GDP per capita, PPP    Population  \n",
       "Entity                                                          \n",
       "Afghanistan                          2033.804389  3.717192e+07  \n",
       "Africa Eastern and Southern          3579.271917           NaN  \n",
       "Africa Western and Central           4115.235801           NaN  \n",
       "Albania                             13323.753356  2.882735e+06  \n",
       "Algeria                             11642.198345  4.222842e+07  \n",
       "...                                          ...           ...  \n",
       "Vanuatu                              3093.461547  2.926750e+05  \n",
       "Vietnam                              7585.943155  9.554596e+07  \n",
       "World                               16636.848011  7.631091e+09  \n",
       "Zambia                               3521.542063  1.735171e+07  \n",
       "Zimbabwe                             3341.665418  1.443881e+07  \n",
       "\n",
       "[226 rows x 5 columns]"
      ]
     },
     "execution_count": 22,
     "metadata": {},
     "output_type": "execute_result"
    }
   ],
   "source": [
    "df_1 = df[df['Year'] == 2018]\n",
    "df_1.drop(['Continent'],axis=1,inplace=True) #dropping the column name \"continent\" because it is of no use\n",
    "df_1"
   ]
  },
  {
   "cell_type": "markdown",
   "id": "fb64ded5",
   "metadata": {},
   "source": [
    " "
   ]
  },
  {
   "cell_type": "markdown",
   "id": "2b6e188c",
   "metadata": {},
   "source": [
    "#### Transfering data to CSV"
   ]
  },
  {
   "cell_type": "code",
   "execution_count": 23,
   "id": "7d85b7e3",
   "metadata": {},
   "outputs": [],
   "source": [
    "df_1.to_csv('2018_data.csv')"
   ]
  },
  {
   "cell_type": "markdown",
   "id": "3988e4e6",
   "metadata": {},
   "source": [
    " "
   ]
  },
  {
   "cell_type": "markdown",
   "id": "771f1676",
   "metadata": {},
   "source": [
    "#### Same processes repeated for finding maximum,dropping the NA values,etc"
   ]
  },
  {
   "cell_type": "code",
   "execution_count": 24,
   "id": "846b21eb",
   "metadata": {},
   "outputs": [
    {
     "data": {
      "text/html": [
       "<div>\n",
       "<style scoped>\n",
       "    .dataframe tbody tr th:only-of-type {\n",
       "        vertical-align: middle;\n",
       "    }\n",
       "\n",
       "    .dataframe tbody tr th {\n",
       "        vertical-align: top;\n",
       "    }\n",
       "\n",
       "    .dataframe thead th {\n",
       "        text-align: right;\n",
       "    }\n",
       "</style>\n",
       "<table border=\"1\" class=\"dataframe\">\n",
       "  <thead>\n",
       "    <tr style=\"text-align: right;\">\n",
       "      <th></th>\n",
       "      <th>Code</th>\n",
       "      <th>Year</th>\n",
       "      <th>Total alcohol consumption per capita</th>\n",
       "      <th>GDP per capita, PPP</th>\n",
       "      <th>Population</th>\n",
       "    </tr>\n",
       "    <tr>\n",
       "      <th>Entity</th>\n",
       "      <th></th>\n",
       "      <th></th>\n",
       "      <th></th>\n",
       "      <th></th>\n",
       "      <th></th>\n",
       "    </tr>\n",
       "  </thead>\n",
       "  <tbody>\n",
       "    <tr>\n",
       "      <th>Seychelles</th>\n",
       "      <td>SYC</td>\n",
       "      <td>2018.0</td>\n",
       "      <td>20.5</td>\n",
       "      <td>27342.161652</td>\n",
       "      <td>97094.0</td>\n",
       "    </tr>\n",
       "  </tbody>\n",
       "</table>\n",
       "</div>"
      ],
      "text/plain": [
       "           Code    Year  Total alcohol consumption per capita  \\\n",
       "Entity                                                          \n",
       "Seychelles  SYC  2018.0                                  20.5   \n",
       "\n",
       "            GDP per capita, PPP  Population  \n",
       "Entity                                       \n",
       "Seychelles         27342.161652     97094.0  "
      ]
     },
     "execution_count": 24,
     "metadata": {},
     "output_type": "execute_result"
    }
   ],
   "source": [
    "df_1[df_1['Total alcohol consumption per capita'] == df_1['Total alcohol consumption per capita'].max()]"
   ]
  },
  {
   "cell_type": "code",
   "execution_count": 25,
   "id": "f481425a",
   "metadata": {},
   "outputs": [
    {
     "data": {
      "text/html": [
       "<div>\n",
       "<style scoped>\n",
       "    .dataframe tbody tr th:only-of-type {\n",
       "        vertical-align: middle;\n",
       "    }\n",
       "\n",
       "    .dataframe tbody tr th {\n",
       "        vertical-align: top;\n",
       "    }\n",
       "\n",
       "    .dataframe thead th {\n",
       "        text-align: right;\n",
       "    }\n",
       "</style>\n",
       "<table border=\"1\" class=\"dataframe\">\n",
       "  <thead>\n",
       "    <tr style=\"text-align: right;\">\n",
       "      <th></th>\n",
       "      <th>Total alcohol consumption per capita</th>\n",
       "      <th>Code</th>\n",
       "    </tr>\n",
       "    <tr>\n",
       "      <th>Entity</th>\n",
       "      <th></th>\n",
       "      <th></th>\n",
       "    </tr>\n",
       "  </thead>\n",
       "  <tbody>\n",
       "    <tr>\n",
       "      <th>Afghanistan</th>\n",
       "      <td>0.210000</td>\n",
       "      <td>AFG</td>\n",
       "    </tr>\n",
       "    <tr>\n",
       "      <th>Albania</th>\n",
       "      <td>7.170000</td>\n",
       "      <td>ALB</td>\n",
       "    </tr>\n",
       "    <tr>\n",
       "      <th>Algeria</th>\n",
       "      <td>0.950000</td>\n",
       "      <td>DZA</td>\n",
       "    </tr>\n",
       "    <tr>\n",
       "      <th>Angola</th>\n",
       "      <td>6.940000</td>\n",
       "      <td>AGO</td>\n",
       "    </tr>\n",
       "    <tr>\n",
       "      <th>Antigua and Barbuda</th>\n",
       "      <td>6.380000</td>\n",
       "      <td>ATG</td>\n",
       "    </tr>\n",
       "    <tr>\n",
       "      <th>...</th>\n",
       "      <td>...</td>\n",
       "      <td>...</td>\n",
       "    </tr>\n",
       "    <tr>\n",
       "      <th>Vanuatu</th>\n",
       "      <td>2.250000</td>\n",
       "      <td>VUT</td>\n",
       "    </tr>\n",
       "    <tr>\n",
       "      <th>Vietnam</th>\n",
       "      <td>8.660000</td>\n",
       "      <td>VNM</td>\n",
       "    </tr>\n",
       "    <tr>\n",
       "      <th>World</th>\n",
       "      <td>6.181404</td>\n",
       "      <td>OWID_WRL</td>\n",
       "    </tr>\n",
       "    <tr>\n",
       "      <th>Zambia</th>\n",
       "      <td>6.540000</td>\n",
       "      <td>ZMB</td>\n",
       "    </tr>\n",
       "    <tr>\n",
       "      <th>Zimbabwe</th>\n",
       "      <td>4.670000</td>\n",
       "      <td>ZWE</td>\n",
       "    </tr>\n",
       "  </tbody>\n",
       "</table>\n",
       "<p>181 rows × 2 columns</p>\n",
       "</div>"
      ],
      "text/plain": [
       "                     Total alcohol consumption per capita      Code\n",
       "Entity                                                             \n",
       "Afghanistan                                      0.210000       AFG\n",
       "Albania                                          7.170000       ALB\n",
       "Algeria                                          0.950000       DZA\n",
       "Angola                                           6.940000       AGO\n",
       "Antigua and Barbuda                              6.380000       ATG\n",
       "...                                                   ...       ...\n",
       "Vanuatu                                          2.250000       VUT\n",
       "Vietnam                                          8.660000       VNM\n",
       "World                                            6.181404  OWID_WRL\n",
       "Zambia                                           6.540000       ZMB\n",
       "Zimbabwe                                         4.670000       ZWE\n",
       "\n",
       "[181 rows x 2 columns]"
      ]
     },
     "execution_count": 25,
     "metadata": {},
     "output_type": "execute_result"
    }
   ],
   "source": [
    "new_df_1=df_1[['Total alcohol consumption per capita','Code']].dropna()\n",
    "new_df_1"
   ]
  },
  {
   "cell_type": "markdown",
   "id": "50d92736",
   "metadata": {},
   "source": [
    " "
   ]
  },
  {
   "cell_type": "markdown",
   "id": "b386150a",
   "metadata": {},
   "source": [
    "#### Same process repeated for creating the CSV file of specific data and cleaning the data"
   ]
  },
  {
   "cell_type": "code",
   "execution_count": 26,
   "id": "3af060a0",
   "metadata": {},
   "outputs": [
    {
     "name": "stderr",
     "output_type": "stream",
     "text": [
      "C:\\Users\\dhrumil\\anaconda3\\lib\\site-packages\\pandas\\core\\frame.py:4906: SettingWithCopyWarning: \n",
      "A value is trying to be set on a copy of a slice from a DataFrame\n",
      "\n",
      "See the caveats in the documentation: https://pandas.pydata.org/pandas-docs/stable/user_guide/indexing.html#returning-a-view-versus-a-copy\n",
      "  return super().drop(\n"
     ]
    }
   ],
   "source": [
    "df_2 = df[df['Year'] == 2015]\n",
    "df_2.drop(['Continent'],axis=1,inplace=True)"
   ]
  },
  {
   "cell_type": "code",
   "execution_count": 27,
   "id": "44db9707",
   "metadata": {},
   "outputs": [
    {
     "data": {
      "text/html": [
       "<div>\n",
       "<style scoped>\n",
       "    .dataframe tbody tr th:only-of-type {\n",
       "        vertical-align: middle;\n",
       "    }\n",
       "\n",
       "    .dataframe tbody tr th {\n",
       "        vertical-align: top;\n",
       "    }\n",
       "\n",
       "    .dataframe thead th {\n",
       "        text-align: right;\n",
       "    }\n",
       "</style>\n",
       "<table border=\"1\" class=\"dataframe\">\n",
       "  <thead>\n",
       "    <tr style=\"text-align: right;\">\n",
       "      <th></th>\n",
       "      <th>Code</th>\n",
       "      <th>Year</th>\n",
       "      <th>Total alcohol consumption per capita</th>\n",
       "      <th>GDP per capita, PPP</th>\n",
       "      <th>Population</th>\n",
       "    </tr>\n",
       "    <tr>\n",
       "      <th>Entity</th>\n",
       "      <th></th>\n",
       "      <th></th>\n",
       "      <th></th>\n",
       "      <th></th>\n",
       "      <th></th>\n",
       "    </tr>\n",
       "  </thead>\n",
       "  <tbody>\n",
       "    <tr>\n",
       "      <th>Afghanistan</th>\n",
       "      <td>AFG</td>\n",
       "      <td>2015.0</td>\n",
       "      <td>0.210000</td>\n",
       "      <td>2068.265904</td>\n",
       "      <td>3.441360e+07</td>\n",
       "    </tr>\n",
       "    <tr>\n",
       "      <th>Africa Eastern and Southern</th>\n",
       "      <td>NaN</td>\n",
       "      <td>2015.0</td>\n",
       "      <td>5.200565</td>\n",
       "      <td>3549.480563</td>\n",
       "      <td>NaN</td>\n",
       "    </tr>\n",
       "    <tr>\n",
       "      <th>Africa Western and Central</th>\n",
       "      <td>NaN</td>\n",
       "      <td>2015.0</td>\n",
       "      <td>6.869468</td>\n",
       "      <td>4202.057923</td>\n",
       "      <td>NaN</td>\n",
       "    </tr>\n",
       "    <tr>\n",
       "      <th>Albania</th>\n",
       "      <td>ALB</td>\n",
       "      <td>2015.0</td>\n",
       "      <td>6.740000</td>\n",
       "      <td>11878.488093</td>\n",
       "      <td>2.890524e+06</td>\n",
       "    </tr>\n",
       "    <tr>\n",
       "      <th>Algeria</th>\n",
       "      <td>DZA</td>\n",
       "      <td>2015.0</td>\n",
       "      <td>0.930000</td>\n",
       "      <td>11696.965229</td>\n",
       "      <td>3.972802e+07</td>\n",
       "    </tr>\n",
       "    <tr>\n",
       "      <th>...</th>\n",
       "      <td>...</td>\n",
       "      <td>...</td>\n",
       "      <td>...</td>\n",
       "      <td>...</td>\n",
       "      <td>...</td>\n",
       "    </tr>\n",
       "    <tr>\n",
       "      <th>Vanuatu</th>\n",
       "      <td>VUT</td>\n",
       "      <td>2015.0</td>\n",
       "      <td>2.140000</td>\n",
       "      <td>2915.700460</td>\n",
       "      <td>2.711280e+05</td>\n",
       "    </tr>\n",
       "    <tr>\n",
       "      <th>Vietnam</th>\n",
       "      <td>VNM</td>\n",
       "      <td>2015.0</td>\n",
       "      <td>7.860000</td>\n",
       "      <td>6438.259854</td>\n",
       "      <td>9.267708e+07</td>\n",
       "    </tr>\n",
       "    <tr>\n",
       "      <th>World</th>\n",
       "      <td>OWID_WRL</td>\n",
       "      <td>2015.0</td>\n",
       "      <td>6.297859</td>\n",
       "      <td>15509.996467</td>\n",
       "      <td>7.380118e+09</td>\n",
       "    </tr>\n",
       "    <tr>\n",
       "      <th>Zambia</th>\n",
       "      <td>ZMB</td>\n",
       "      <td>2015.0</td>\n",
       "      <td>6.890000</td>\n",
       "      <td>3443.553254</td>\n",
       "      <td>1.587937e+07</td>\n",
       "    </tr>\n",
       "    <tr>\n",
       "      <th>Zimbabwe</th>\n",
       "      <td>ZWE</td>\n",
       "      <td>2015.0</td>\n",
       "      <td>4.920000</td>\n",
       "      <td>3198.982129</td>\n",
       "      <td>1.381464e+07</td>\n",
       "    </tr>\n",
       "  </tbody>\n",
       "</table>\n",
       "<p>226 rows × 5 columns</p>\n",
       "</div>"
      ],
      "text/plain": [
       "                                 Code    Year  \\\n",
       "Entity                                          \n",
       "Afghanistan                       AFG  2015.0   \n",
       "Africa Eastern and Southern       NaN  2015.0   \n",
       "Africa Western and Central        NaN  2015.0   \n",
       "Albania                           ALB  2015.0   \n",
       "Algeria                           DZA  2015.0   \n",
       "...                               ...     ...   \n",
       "Vanuatu                           VUT  2015.0   \n",
       "Vietnam                           VNM  2015.0   \n",
       "World                        OWID_WRL  2015.0   \n",
       "Zambia                            ZMB  2015.0   \n",
       "Zimbabwe                          ZWE  2015.0   \n",
       "\n",
       "                             Total alcohol consumption per capita  \\\n",
       "Entity                                                              \n",
       "Afghanistan                                              0.210000   \n",
       "Africa Eastern and Southern                              5.200565   \n",
       "Africa Western and Central                               6.869468   \n",
       "Albania                                                  6.740000   \n",
       "Algeria                                                  0.930000   \n",
       "...                                                           ...   \n",
       "Vanuatu                                                  2.140000   \n",
       "Vietnam                                                  7.860000   \n",
       "World                                                    6.297859   \n",
       "Zambia                                                   6.890000   \n",
       "Zimbabwe                                                 4.920000   \n",
       "\n",
       "                             GDP per capita, PPP    Population  \n",
       "Entity                                                          \n",
       "Afghanistan                          2068.265904  3.441360e+07  \n",
       "Africa Eastern and Southern          3549.480563           NaN  \n",
       "Africa Western and Central           4202.057923           NaN  \n",
       "Albania                             11878.488093  2.890524e+06  \n",
       "Algeria                             11696.965229  3.972802e+07  \n",
       "...                                          ...           ...  \n",
       "Vanuatu                              2915.700460  2.711280e+05  \n",
       "Vietnam                              6438.259854  9.267708e+07  \n",
       "World                               15509.996467  7.380118e+09  \n",
       "Zambia                               3443.553254  1.587937e+07  \n",
       "Zimbabwe                             3198.982129  1.381464e+07  \n",
       "\n",
       "[226 rows x 5 columns]"
      ]
     },
     "execution_count": 27,
     "metadata": {},
     "output_type": "execute_result"
    }
   ],
   "source": [
    "df_2.to_csv('2015_data.csv')\n",
    "df_2"
   ]
  },
  {
   "cell_type": "markdown",
   "id": "40cdac6a",
   "metadata": {},
   "source": [
    " "
   ]
  },
  {
   "cell_type": "markdown",
   "id": "93b0404f",
   "metadata": {},
   "source": [
    "#### Findind the mean of groups and displaying groups of users choice"
   ]
  },
  {
   "cell_type": "code",
   "execution_count": 28,
   "id": "ad7e7c0c",
   "metadata": {},
   "outputs": [
    {
     "data": {
      "text/html": [
       "<div>\n",
       "<style scoped>\n",
       "    .dataframe tbody tr th:only-of-type {\n",
       "        vertical-align: middle;\n",
       "    }\n",
       "\n",
       "    .dataframe tbody tr th {\n",
       "        vertical-align: top;\n",
       "    }\n",
       "\n",
       "    .dataframe thead th {\n",
       "        text-align: right;\n",
       "    }\n",
       "</style>\n",
       "<table border=\"1\" class=\"dataframe\">\n",
       "  <thead>\n",
       "    <tr style=\"text-align: right;\">\n",
       "      <th></th>\n",
       "      <th>Year</th>\n",
       "      <th>Total alcohol consumption per capita</th>\n",
       "      <th>GDP per capita, PPP</th>\n",
       "      <th>Population</th>\n",
       "    </tr>\n",
       "    <tr>\n",
       "      <th>Entity</th>\n",
       "      <th></th>\n",
       "      <th></th>\n",
       "      <th></th>\n",
       "      <th></th>\n",
       "    </tr>\n",
       "  </thead>\n",
       "  <tbody>\n",
       "    <tr>\n",
       "      <th>India</th>\n",
       "      <td>2015.0</td>\n",
       "      <td>5.54</td>\n",
       "      <td>5464.394057</td>\n",
       "      <td>1.310152e+09</td>\n",
       "    </tr>\n",
       "    <tr>\n",
       "      <th>Russia</th>\n",
       "      <td>2015.0</td>\n",
       "      <td>12.47</td>\n",
       "      <td>25488.096120</td>\n",
       "      <td>1.449851e+08</td>\n",
       "    </tr>\n",
       "    <tr>\n",
       "      <th>China</th>\n",
       "      <td>2015.0</td>\n",
       "      <td>7.15</td>\n",
       "      <td>12691.821553</td>\n",
       "      <td>1.406848e+09</td>\n",
       "    </tr>\n",
       "    <tr>\n",
       "      <th>United States</th>\n",
       "      <td>2015.0</td>\n",
       "      <td>9.82</td>\n",
       "      <td>58540.296093</td>\n",
       "      <td>3.208783e+08</td>\n",
       "    </tr>\n",
       "    <tr>\n",
       "      <th>Japan</th>\n",
       "      <td>2015.0</td>\n",
       "      <td>7.87</td>\n",
       "      <td>39777.531017</td>\n",
       "      <td>1.279851e+08</td>\n",
       "    </tr>\n",
       "  </tbody>\n",
       "</table>\n",
       "</div>"
      ],
      "text/plain": [
       "                 Year  Total alcohol consumption per capita  \\\n",
       "Entity                                                        \n",
       "India          2015.0                                  5.54   \n",
       "Russia         2015.0                                 12.47   \n",
       "China          2015.0                                  7.15   \n",
       "United States  2015.0                                  9.82   \n",
       "Japan          2015.0                                  7.87   \n",
       "\n",
       "               GDP per capita, PPP    Population  \n",
       "Entity                                            \n",
       "India                  5464.394057  1.310152e+09  \n",
       "Russia                25488.096120  1.449851e+08  \n",
       "China                 12691.821553  1.406848e+09  \n",
       "United States         58540.296093  3.208783e+08  \n",
       "Japan                 39777.531017  1.279851e+08  "
      ]
     },
     "execution_count": 28,
     "metadata": {},
     "output_type": "execute_result"
    }
   ],
   "source": [
    "df_2=df_2.groupby('Entity').mean()\n",
    "df_2.loc[['India','Russia','China','United States','Japan']]"
   ]
  },
  {
   "cell_type": "markdown",
   "id": "1f50c33b",
   "metadata": {},
   "source": [
    " "
   ]
  },
  {
   "cell_type": "markdown",
   "id": "01ec5dd6",
   "metadata": {},
   "source": [
    "#### Concatinating two CSV files data and transfering the combined data to another CSV file"
   ]
  },
  {
   "cell_type": "code",
   "execution_count": 41,
   "id": "3a5b6533",
   "metadata": {},
   "outputs": [],
   "source": [
    "df_concat= pd.concat(\n",
    "    map(pd.read_csv, ['2015_data.csv', '2018_data.csv']), ignore_index=True,keys=['2015','2018'])\n",
    "df_concat.to_csv('2015_18_combined_data.csv',index=False)"
   ]
  },
  {
   "cell_type": "markdown",
   "id": "2717ce46",
   "metadata": {},
   "source": [
    " "
   ]
  },
  {
   "cell_type": "markdown",
   "id": "c5d4f6cc",
   "metadata": {},
   "source": [
    "#### Creating a pivot table of specified Index column and averaging the values W.R.T the specified index"
   ]
  },
  {
   "cell_type": "code",
   "execution_count": 70,
   "id": "e4b29938",
   "metadata": {},
   "outputs": [
    {
     "data": {
      "text/html": [
       "<div>\n",
       "<style scoped>\n",
       "    .dataframe tbody tr th:only-of-type {\n",
       "        vertical-align: middle;\n",
       "    }\n",
       "\n",
       "    .dataframe tbody tr th {\n",
       "        vertical-align: top;\n",
       "    }\n",
       "\n",
       "    .dataframe thead th {\n",
       "        text-align: right;\n",
       "    }\n",
       "</style>\n",
       "<table border=\"1\" class=\"dataframe\">\n",
       "  <thead>\n",
       "    <tr style=\"text-align: right;\">\n",
       "      <th></th>\n",
       "      <th>GDP per capita, PPP</th>\n",
       "      <th>Population</th>\n",
       "      <th>Total alcohol consumption per capita</th>\n",
       "    </tr>\n",
       "    <tr>\n",
       "      <th>Year</th>\n",
       "      <th></th>\n",
       "      <th></th>\n",
       "      <th></th>\n",
       "    </tr>\n",
       "  </thead>\n",
       "  <tbody>\n",
       "    <tr>\n",
       "      <th>2000.0</th>\n",
       "      <td>14563.489836</td>\n",
       "      <td>7.245280e+07</td>\n",
       "      <td>6.098127</td>\n",
       "    </tr>\n",
       "    <tr>\n",
       "      <th>2005.0</th>\n",
       "      <td>16206.764163</td>\n",
       "      <td>7.620292e+07</td>\n",
       "      <td>6.158583</td>\n",
       "    </tr>\n",
       "    <tr>\n",
       "      <th>2010.0</th>\n",
       "      <td>17336.844191</td>\n",
       "      <td>7.957819e+07</td>\n",
       "      <td>6.255894</td>\n",
       "    </tr>\n",
       "    <tr>\n",
       "      <th>2015.0</th>\n",
       "      <td>18477.871260</td>\n",
       "      <td>8.329425e+07</td>\n",
       "      <td>6.124697</td>\n",
       "    </tr>\n",
       "    <tr>\n",
       "      <th>2018.0</th>\n",
       "      <td>19462.294290</td>\n",
       "      <td>8.612535e+07</td>\n",
       "      <td>6.052532</td>\n",
       "    </tr>\n",
       "  </tbody>\n",
       "</table>\n",
       "</div>"
      ],
      "text/plain": [
       "        GDP per capita, PPP    Population  \\\n",
       "Year                                        \n",
       "2000.0         14563.489836  7.245280e+07   \n",
       "2005.0         16206.764163  7.620292e+07   \n",
       "2010.0         17336.844191  7.957819e+07   \n",
       "2015.0         18477.871260  8.329425e+07   \n",
       "2018.0         19462.294290  8.612535e+07   \n",
       "\n",
       "        Total alcohol consumption per capita  \n",
       "Year                                          \n",
       "2000.0                              6.098127  \n",
       "2005.0                              6.158583  \n",
       "2010.0                              6.255894  \n",
       "2015.0                              6.124697  \n",
       "2018.0                              6.052532  "
      ]
     },
     "execution_count": 70,
     "metadata": {},
     "output_type": "execute_result"
    }
   ],
   "source": [
    "\n",
    "df_pv=df.pivot_table(index=pd.Grouper('Year'))\n",
    "df_pv"
   ]
  },
  {
   "cell_type": "code",
   "execution_count": null,
   "id": "6aa51cbb",
   "metadata": {},
   "outputs": [],
   "source": []
  }
 ],
 "metadata": {
  "kernelspec": {
   "display_name": "Python 3 (ipykernel)",
   "language": "python",
   "name": "python3"
  },
  "language_info": {
   "codemirror_mode": {
    "name": "ipython",
    "version": 3
   },
   "file_extension": ".py",
   "mimetype": "text/x-python",
   "name": "python",
   "nbconvert_exporter": "python",
   "pygments_lexer": "ipython3",
   "version": "3.9.7"
  }
 },
 "nbformat": 4,
 "nbformat_minor": 5
}
